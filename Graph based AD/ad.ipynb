{
 "cells": [
  {
   "cell_type": "code",
   "execution_count": 1,
   "id": "b93ec7bc-bb3e-4ccc-bc7a-7a8b0152e687",
   "metadata": {},
   "outputs": [
    {
     "name": "stderr",
     "output_type": "stream",
     "text": [
      "C:\\Users\\Dell\\Anaconda\\lib\\site-packages\\statsmodels\\tsa\\base\\tsa_model.py:7: FutureWarning: pandas.Int64Index is deprecated and will be removed from pandas in a future version. Use pandas.Index with the appropriate dtype instead.\n",
      "  from pandas import (to_datetime, Int64Index, DatetimeIndex, Period,\n",
      "C:\\Users\\Dell\\Anaconda\\lib\\site-packages\\statsmodels\\tsa\\base\\tsa_model.py:7: FutureWarning: pandas.Float64Index is deprecated and will be removed from pandas in a future version. Use pandas.Index with the appropriate dtype instead.\n",
      "  from pandas import (to_datetime, Int64Index, DatetimeIndex, Period,\n"
     ]
    }
   ],
   "source": [
    "# Packages\n",
    "import sys; sys.path.append('../')\n",
    "import tqdm\n",
    "import pandas as pd\n",
    "import bnlearn as bn\n",
    "import numpy as np\n",
    "import pickle\n",
    "import matplotlib.pyplot as plt\n",
    "import seaborn as sns\n",
    "from sklearn.preprocessing import normalize\n",
    "from statsmodels.tsa.seasonal import seasonal_decompose\n",
    "import torch\n",
    "import torch.nn as nn\n",
    "from torch.utils.data import DataLoader\n",
    "from torch.nn import Linear, LayerNorm, ReLU, Dropout\n",
    "import torch.nn.functional as F\n",
    "from sklearn.preprocessing import MinMaxScaler\n",
    "import scipy.sparse as sp\n",
    "import torchvision\n",
    "import warnings\n",
    "warnings.filterwarnings(\"ignore\")"
   ]
  },
  {
   "cell_type": "code",
   "execution_count": 3,
   "id": "031ab5c2-d3c5-4e52-83b2-3e78aae24c62",
   "metadata": {},
   "outputs": [
    {
     "data": {
      "text/html": [
       "<div>\n",
       "<style scoped>\n",
       "    .dataframe tbody tr th:only-of-type {\n",
       "        vertical-align: middle;\n",
       "    }\n",
       "\n",
       "    .dataframe tbody tr th {\n",
       "        vertical-align: top;\n",
       "    }\n",
       "\n",
       "    .dataframe thead th {\n",
       "        text-align: right;\n",
       "    }\n",
       "</style>\n",
       "<table border=\"1\" class=\"dataframe\">\n",
       "  <thead>\n",
       "    <tr style=\"text-align: right;\">\n",
       "      <th></th>\n",
       "      <th>FIT101</th>\n",
       "      <th>LIT101</th>\n",
       "      <th>MV101</th>\n",
       "      <th>P101</th>\n",
       "      <th>P102</th>\n",
       "      <th>AIT201</th>\n",
       "      <th>AIT202</th>\n",
       "      <th>AIT203</th>\n",
       "      <th>FIT201</th>\n",
       "      <th>MV201</th>\n",
       "      <th>...</th>\n",
       "      <th>P501</th>\n",
       "      <th>P502</th>\n",
       "      <th>PIT501</th>\n",
       "      <th>PIT502</th>\n",
       "      <th>PIT503</th>\n",
       "      <th>FIT601</th>\n",
       "      <th>P601</th>\n",
       "      <th>P602</th>\n",
       "      <th>P603</th>\n",
       "      <th>attack</th>\n",
       "    </tr>\n",
       "    <tr>\n",
       "      <th>Timestamp</th>\n",
       "      <th></th>\n",
       "      <th></th>\n",
       "      <th></th>\n",
       "      <th></th>\n",
       "      <th></th>\n",
       "      <th></th>\n",
       "      <th></th>\n",
       "      <th></th>\n",
       "      <th></th>\n",
       "      <th></th>\n",
       "      <th></th>\n",
       "      <th></th>\n",
       "      <th></th>\n",
       "      <th></th>\n",
       "      <th></th>\n",
       "      <th></th>\n",
       "      <th></th>\n",
       "      <th></th>\n",
       "      <th></th>\n",
       "      <th></th>\n",
       "      <th></th>\n",
       "    </tr>\n",
       "  </thead>\n",
       "  <tbody>\n",
       "    <tr>\n",
       "      <th>22/12/2015 4:30:00 PM</th>\n",
       "      <td>0.0</td>\n",
       "      <td>124.3135</td>\n",
       "      <td>1</td>\n",
       "      <td>1</td>\n",
       "      <td>1</td>\n",
       "      <td>251.9226</td>\n",
       "      <td>8.313446</td>\n",
       "      <td>312.7916</td>\n",
       "      <td>0.0</td>\n",
       "      <td>1</td>\n",
       "      <td>...</td>\n",
       "      <td>1</td>\n",
       "      <td>1</td>\n",
       "      <td>9.100231</td>\n",
       "      <td>0.0</td>\n",
       "      <td>3.3485</td>\n",
       "      <td>0.000256</td>\n",
       "      <td>1</td>\n",
       "      <td>1</td>\n",
       "      <td>1</td>\n",
       "      <td>Normal</td>\n",
       "    </tr>\n",
       "    <tr>\n",
       "      <th>22/12/2015 4:30:01 PM</th>\n",
       "      <td>0.0</td>\n",
       "      <td>124.3920</td>\n",
       "      <td>1</td>\n",
       "      <td>1</td>\n",
       "      <td>1</td>\n",
       "      <td>251.9226</td>\n",
       "      <td>8.313446</td>\n",
       "      <td>312.7916</td>\n",
       "      <td>0.0</td>\n",
       "      <td>1</td>\n",
       "      <td>...</td>\n",
       "      <td>1</td>\n",
       "      <td>1</td>\n",
       "      <td>9.100231</td>\n",
       "      <td>0.0</td>\n",
       "      <td>3.3485</td>\n",
       "      <td>0.000256</td>\n",
       "      <td>1</td>\n",
       "      <td>1</td>\n",
       "      <td>1</td>\n",
       "      <td>Normal</td>\n",
       "    </tr>\n",
       "    <tr>\n",
       "      <th>22/12/2015 4:30:02 PM</th>\n",
       "      <td>0.0</td>\n",
       "      <td>124.4705</td>\n",
       "      <td>1</td>\n",
       "      <td>1</td>\n",
       "      <td>1</td>\n",
       "      <td>251.9226</td>\n",
       "      <td>8.313446</td>\n",
       "      <td>312.7916</td>\n",
       "      <td>0.0</td>\n",
       "      <td>1</td>\n",
       "      <td>...</td>\n",
       "      <td>1</td>\n",
       "      <td>1</td>\n",
       "      <td>9.100231</td>\n",
       "      <td>0.0</td>\n",
       "      <td>3.3485</td>\n",
       "      <td>0.000256</td>\n",
       "      <td>1</td>\n",
       "      <td>1</td>\n",
       "      <td>1</td>\n",
       "      <td>Normal</td>\n",
       "    </tr>\n",
       "    <tr>\n",
       "      <th>22/12/2015 4:30:03 PM</th>\n",
       "      <td>0.0</td>\n",
       "      <td>124.6668</td>\n",
       "      <td>1</td>\n",
       "      <td>1</td>\n",
       "      <td>1</td>\n",
       "      <td>251.9226</td>\n",
       "      <td>8.313446</td>\n",
       "      <td>312.7916</td>\n",
       "      <td>0.0</td>\n",
       "      <td>1</td>\n",
       "      <td>...</td>\n",
       "      <td>1</td>\n",
       "      <td>1</td>\n",
       "      <td>9.100231</td>\n",
       "      <td>0.0</td>\n",
       "      <td>3.3485</td>\n",
       "      <td>0.000256</td>\n",
       "      <td>1</td>\n",
       "      <td>1</td>\n",
       "      <td>1</td>\n",
       "      <td>Normal</td>\n",
       "    </tr>\n",
       "    <tr>\n",
       "      <th>22/12/2015 4:30:04 PM</th>\n",
       "      <td>0.0</td>\n",
       "      <td>124.5098</td>\n",
       "      <td>1</td>\n",
       "      <td>1</td>\n",
       "      <td>1</td>\n",
       "      <td>251.9226</td>\n",
       "      <td>8.313446</td>\n",
       "      <td>312.7916</td>\n",
       "      <td>0.0</td>\n",
       "      <td>1</td>\n",
       "      <td>...</td>\n",
       "      <td>1</td>\n",
       "      <td>1</td>\n",
       "      <td>9.100231</td>\n",
       "      <td>0.0</td>\n",
       "      <td>3.3485</td>\n",
       "      <td>0.000256</td>\n",
       "      <td>1</td>\n",
       "      <td>1</td>\n",
       "      <td>1</td>\n",
       "      <td>Normal</td>\n",
       "    </tr>\n",
       "  </tbody>\n",
       "</table>\n",
       "<p>5 rows × 52 columns</p>\n",
       "</div>"
      ],
      "text/plain": [
       "                        FIT101    LIT101  MV101  P101  P102    AIT201  \\\n",
       " Timestamp                                                              \n",
       " 22/12/2015 4:30:00 PM     0.0  124.3135      1     1     1  251.9226   \n",
       " 22/12/2015 4:30:01 PM     0.0  124.3920      1     1     1  251.9226   \n",
       " 22/12/2015 4:30:02 PM     0.0  124.4705      1     1     1  251.9226   \n",
       " 22/12/2015 4:30:03 PM     0.0  124.6668      1     1     1  251.9226   \n",
       " 22/12/2015 4:30:04 PM     0.0  124.5098      1     1     1  251.9226   \n",
       "\n",
       "                          AIT202    AIT203  FIT201  MV201  ...  P501  P502  \\\n",
       " Timestamp                                                 ...               \n",
       " 22/12/2015 4:30:00 PM  8.313446  312.7916     0.0      1  ...     1     1   \n",
       " 22/12/2015 4:30:01 PM  8.313446  312.7916     0.0      1  ...     1     1   \n",
       " 22/12/2015 4:30:02 PM  8.313446  312.7916     0.0      1  ...     1     1   \n",
       " 22/12/2015 4:30:03 PM  8.313446  312.7916     0.0      1  ...     1     1   \n",
       " 22/12/2015 4:30:04 PM  8.313446  312.7916     0.0      1  ...     1     1   \n",
       "\n",
       "                          PIT501  PIT502  PIT503    FIT601  P601  P602  P603  \\\n",
       " Timestamp                                                                     \n",
       " 22/12/2015 4:30:00 PM  9.100231     0.0  3.3485  0.000256     1     1     1   \n",
       " 22/12/2015 4:30:01 PM  9.100231     0.0  3.3485  0.000256     1     1     1   \n",
       " 22/12/2015 4:30:02 PM  9.100231     0.0  3.3485  0.000256     1     1     1   \n",
       " 22/12/2015 4:30:03 PM  9.100231     0.0  3.3485  0.000256     1     1     1   \n",
       " 22/12/2015 4:30:04 PM  9.100231     0.0  3.3485  0.000256     1     1     1   \n",
       "\n",
       "                        attack  \n",
       " Timestamp                      \n",
       " 22/12/2015 4:30:00 PM  Normal  \n",
       " 22/12/2015 4:30:01 PM  Normal  \n",
       " 22/12/2015 4:30:02 PM  Normal  \n",
       " 22/12/2015 4:30:03 PM  Normal  \n",
       " 22/12/2015 4:30:04 PM  Normal  \n",
       "\n",
       "[5 rows x 52 columns]"
      ]
     },
     "execution_count": 3,
     "metadata": {},
     "output_type": "execute_result"
    }
   ],
   "source": [
    "test = pd.read_csv(\"SWaT_Dataset_Attack_v0.csv\", index_col=0)\n",
    "train = pd.read_csv(\"SWaT_Dataset_Normal_v1.csv\", index_col=0)\n",
    "train.head()"
   ]
  },
  {
   "cell_type": "code",
   "execution_count": 5,
   "id": "cc12479c-507b-48bb-a995-60373843eb47",
   "metadata": {},
   "outputs": [],
   "source": [
    "train['attack'].replace('Normal', 0, inplace=True)\n",
    "train['attack'].replace('Attack', 1, inplace=True) \n",
    "train['attack'].replace('A ttack', 1, inplace=True) \n",
    "test['attack'].replace('Normal', 0, inplace=True) \n",
    "test['attack'].replace('Attack', 1, inplace=True) \n",
    "test['attack'].replace('A ttack', 1, inplace=True)"
   ]
  },
  {
   "cell_type": "code",
   "execution_count": 6,
   "id": "3b1e43b8-029c-4730-a568-369522159d75",
   "metadata": {},
   "outputs": [],
   "source": [
    "# max min(0-1)\n",
    "def norm(train, test):\n",
    "\n",
    "    normalizer = MinMaxScaler(feature_range=(0, 1)).fit(train) # scale training data to [0,1] range\n",
    "    train_ret = normalizer.transform(train)\n",
    "    test_ret = normalizer.transform(test)\n",
    "\n",
    "    return train_ret, test_ret\n",
    "\n",
    "# downsample by 10\n",
    "def downsample(data, labels, down_len):\n",
    "    np_data = np.array(data)\n",
    "    np_labels = np.array(labels).astype(int)\n",
    "\n",
    "    orig_len, col_num = np_data.shape\n",
    "\n",
    "    down_time_len = orig_len // down_len\n",
    "\n",
    "    np_data = np_data.transpose()\n",
    "\n",
    "    d_data = np_data[:, :down_time_len*down_len].reshape(col_num, -1, down_len)\n",
    "    d_data = np.median(d_data, axis=2).reshape(col_num, -1)\n",
    "\n",
    "    d_labels = np_labels[:down_time_len*down_len].reshape(-1, down_len)\n",
    "    # if exist anomalies, then this sample is abnormal\n",
    "    d_labels = np.round(np.max(d_labels, axis=1))\n",
    "\n",
    "\n",
    "    d_data = d_data.transpose()\n",
    "\n",
    "    return d_data.tolist(), d_labels.tolist()\n",
    "\n",
    "\n"
   ]
  },
  {
   "cell_type": "markdown",
   "id": "910d176e-7033-4f53-8c15-83c10fb58ca4",
   "metadata": {},
   "source": [
    "## downsampling"
   ]
  },
  {
   "cell_type": "code",
   "execution_count": 7,
   "id": "d7f9a77b-0602-4376-92a1-7f5028defa14",
   "metadata": {},
   "outputs": [],
   "source": [
    "\n",
    "    test = test.iloc[:, 1:]\n",
    "    train = train.iloc[:, 1:]\n",
    "\n",
    "\n",
    "    train = train.fillna(0)\n",
    "    test = test.fillna(0)\n",
    "\n",
    "    # trim column names\n",
    "    train = train.rename(columns=lambda x: x.strip())\n",
    "    test = test.rename(columns=lambda x: x.strip())\n",
    "\n",
    "    # print(len(test.columns),test.columns)\n",
    "    # print(len(train.columns),train.columns)\n",
    "\n",
    "\n",
    "    train_labels = train.attack\n",
    "    test_labels = test.attack\n",
    "\n",
    "    train = train.drop(columns=['attack'])\n",
    "    test = test.drop(columns=['attack'])\n",
    "\n",
    "\n",
    "    x_train, x_test = norm(train.values, test.values)\n",
    "\n",
    "\n",
    "    for i, col in enumerate(train.columns):\n",
    "        train.loc[:, col] = x_train[:, i]\n",
    "        test.loc[:, col] = x_test[:, i]\n",
    "\n",
    "\n",
    "    d_train_x, d_train_labels = downsample(train.values, train_labels, 10)\n",
    "    d_test_x, d_test_labels = downsample(test.values, test_labels, 10)\n",
    "\n",
    "    train_df = pd.DataFrame(d_train_x, columns = train.columns)\n",
    "    test_df = pd.DataFrame(d_test_x, columns = test.columns)\n",
    "\n",
    "    test_df['attack'] = d_test_labels\n",
    "    train_df['attack'] = d_train_labels\n",
    "\n",
    "    train_df = train_df.iloc[2160:]\n"
   ]
  },
  {
   "cell_type": "code",
   "execution_count": 8,
   "id": "33006967-7933-4a8a-b78f-b5b398578942",
   "metadata": {},
   "outputs": [],
   "source": [
    "train_df.to_csv('./train.csv')\n",
    "test_df.to_csv('./test.csv')"
   ]
  },
  {
   "cell_type": "code",
   "execution_count": 9,
   "id": "d6ac43db-24f5-4b0a-bbaa-d5b6cc374921",
   "metadata": {},
   "outputs": [
    {
     "name": "stdout",
     "output_type": "stream",
     "text": [
      "<class 'pandas.core.frame.DataFrame'>\n",
      "RangeIndex: 47340 entries, 2160 to 49499\n",
      "Data columns (total 51 columns):\n",
      " #   Column   Non-Null Count  Dtype  \n",
      "---  ------   --------------  -----  \n",
      " 0   LIT101   47340 non-null  float64\n",
      " 1   MV101    47340 non-null  float64\n",
      " 2   P101     47340 non-null  float64\n",
      " 3   P102     47340 non-null  float64\n",
      " 4   AIT201   47340 non-null  float64\n",
      " 5   AIT202   47340 non-null  float64\n",
      " 6   AIT203   47340 non-null  float64\n",
      " 7   FIT201   47340 non-null  float64\n",
      " 8   MV201    47340 non-null  float64\n",
      " 9   P201     47340 non-null  float64\n",
      " 10  P202     47340 non-null  float64\n",
      " 11  P203     47340 non-null  float64\n",
      " 12  P204     47340 non-null  float64\n",
      " 13  P205     47340 non-null  float64\n",
      " 14  P206     47340 non-null  float64\n",
      " 15  DPIT301  47340 non-null  float64\n",
      " 16  FIT301   47340 non-null  float64\n",
      " 17  LIT301   47340 non-null  float64\n",
      " 18  MV301    47340 non-null  float64\n",
      " 19  MV302    47340 non-null  float64\n",
      " 20  MV303    47340 non-null  float64\n",
      " 21  MV304    47340 non-null  float64\n",
      " 22  P301     47340 non-null  float64\n",
      " 23  P302     47340 non-null  float64\n",
      " 24  AIT401   47340 non-null  float64\n",
      " 25  AIT402   47340 non-null  float64\n",
      " 26  FIT401   47340 non-null  float64\n",
      " 27  LIT401   47340 non-null  float64\n",
      " 28  P401     47340 non-null  float64\n",
      " 29  P402     47340 non-null  float64\n",
      " 30  P403     47340 non-null  float64\n",
      " 31  P404     47340 non-null  float64\n",
      " 32  UV401    47340 non-null  float64\n",
      " 33  AIT501   47340 non-null  float64\n",
      " 34  AIT502   47340 non-null  float64\n",
      " 35  AIT503   47340 non-null  float64\n",
      " 36  AIT504   47340 non-null  float64\n",
      " 37  FIT501   47340 non-null  float64\n",
      " 38  FIT502   47340 non-null  float64\n",
      " 39  FIT503   47340 non-null  float64\n",
      " 40  FIT504   47340 non-null  float64\n",
      " 41  P501     47340 non-null  float64\n",
      " 42  P502     47340 non-null  float64\n",
      " 43  PIT501   47340 non-null  float64\n",
      " 44  PIT502   47340 non-null  float64\n",
      " 45  PIT503   47340 non-null  float64\n",
      " 46  FIT601   47340 non-null  float64\n",
      " 47  P601     47340 non-null  float64\n",
      " 48  P602     47340 non-null  float64\n",
      " 49  P603     47340 non-null  float64\n",
      " 50  attack   47340 non-null  int64  \n",
      "dtypes: float64(50), int64(1)\n",
      "memory usage: 18.4 MB\n"
     ]
    }
   ],
   "source": [
    "train_df.info()"
   ]
  },
  {
   "cell_type": "markdown",
   "id": "c1d47ff9-506a-4f3b-8887-fc5a983878e1",
   "metadata": {},
   "source": [
    "## Structure learning"
   ]
  },
  {
   "cell_type": "code",
   "execution_count": 10,
   "id": "217ac382-a344-4d24-a838-a3fb3bf14dfc",
   "metadata": {},
   "outputs": [
    {
     "name": "stdout",
     "output_type": "stream",
     "text": [
      "[bnlearn] >Computing best DAG using [hc]\n",
      "[bnlearn] >Set scoring type at [bic]\n"
     ]
    }
   ],
   "source": [
    "model_learned = bn.structure_learning.fit(train_df,methodtype='hc',scoretype='bic')"
   ]
  },
  {
   "cell_type": "code",
   "execution_count": 11,
   "id": "cbe60389-8ac9-4b3b-a6ad-4c81ff334363",
   "metadata": {},
   "outputs": [
    {
     "name": "stdout",
     "output_type": "stream",
     "text": [
      "[bnlearn] >Plot based on BayesianModel\n"
     ]
    },
    {
     "data": {
      "image/png": "[encoded data removed]",
      "text/plain": [
       "<Figure size 1080x576 with 1 Axes>"
      ]
     },
     "metadata": {},
     "output_type": "display_data"
    },
    {
     "data": {
      "text/plain": [
       "{'pos': {'LIT101': array([0.60276235, 0.86558448]),\n",
       "  'MV101': array([-0.86110628,  0.43915741]),\n",
       "  'P101': array([0.116695  , 0.94238472]),\n",
       "  'P102': array([-0.63300948, -0.67937965]),\n",
       "  'AIT201': array([-0.98060287, -0.03898706]),\n",
       "  'AIT202': array([ 0.74493173, -0.4772567 ]),\n",
       "  'AIT203': array([-0.9422203, -0.1679698]),\n",
       "  'FIT201': array([-0.95121661, -0.34793108]),\n",
       "  'MV201': array([ 0.56551263, -0.85716661]),\n",
       "  'P201': array([-0.92203129,  0.19620107]),\n",
       "  'P202': array([ 0.58787429, -0.74227446]),\n",
       "  'P203': array([-0.11999408,  0.99883231]),\n",
       "  'P204': array([ 0.97225811, -0.08979811]),\n",
       "  'P205': array([-0.04607052, -0.99110859]),\n",
       "  'P206': array([0.24278942, 0.97647119]),\n",
       "  'DPIT301': array([ 0.25505167, -0.78005703]),\n",
       "  'FIT301': array([-0.78503057, -0.61802225]),\n",
       "  'LIT301': array([ 0.878895  , -0.59226379]),\n",
       "  'MV301': array([0.30429845, 0.8207646 ]),\n",
       "  'MV302': array([-0.6612921 , -0.80193659]),\n",
       "  'MV303': array([-0.44332019,  0.93177865]),\n",
       "  'MV304': array([0.83644535, 0.62198384]),\n",
       "  'P301': array([ 0.95693866, -0.40580947]),\n",
       "  'P302': array([ 0.73512704, -0.69036471]),\n",
       "  'AIT401': array([0.86415835, 0.45978055]),\n",
       "  'AIT402': array([-0.48813414, -0.89764891]),\n",
       "  'FIT401': array([ 0.41700756, -0.95631528]),\n",
       "  'LIT401': array([ 0.09516159, -0.96773753]),\n",
       "  'P401': array([0.44190971, 0.84885929]),\n",
       "  'P402': array([-0.02077325,  0.92968502]),\n",
       "  'P403': array([-0.82169843, -0.48220131]),\n",
       "  'P404': array([0.70063132, 0.57988174]),\n",
       "  'UV401': array([ 0.85961212, -0.12345515]),\n",
       "  'AIT501': array([-0.25772434,  0.94774518]),\n",
       "  'AIT502': array([0.97057746, 0.0725871 ]),\n",
       "  'AIT503': array([-0.19221792, -0.9813428 ]),\n",
       "  'AIT504': array([-0.38374622, -0.75526413]),\n",
       "  'FIT501': array([0.90237137, 0.32850965]),\n",
       "  'FIT502': array([-0.31438256, -0.90973864]),\n",
       "  'FIT503': array([0.65548355, 0.73904785]),\n",
       "  'FIT504': array([-0.59897056,  0.80961248]),\n",
       "  'P501': array([-0.93258   ,  0.32743502]),\n",
       "  'P502': array([-0.63652297,  0.62339003]),\n",
       "  'PIT501': array([ 0.2525964 , -0.96290737]),\n",
       "  'PIT502': array([-0.41817612,  0.84770682]),\n",
       "  'PIT503': array([0.91602221, 0.19728885]),\n",
       "  'FIT601': array([-1.        ,  0.10078076]),\n",
       "  'P601': array([-0.83469198, -0.30548184]),\n",
       "  'P602': array([-0.82738034,  0.56983132]),\n",
       "  'P603': array([ 0.94609162, -0.26952073]),\n",
       "  'attack': array([-0.7483098 ,  0.71663964])},\n",
       " 'G': <networkx.classes.digraph.DiGraph at 0x1f28bb89130>}"
      ]
     },
     "execution_count": 11,
     "metadata": {},
     "output_type": "execute_result"
    }
   ],
   "source": [
    "bn.plot(model_learned)"
   ]
  },
  {
   "cell_type": "markdown",
   "id": "c0030fe2-96b0-4fc6-ae86-9a059d1176e2",
   "metadata": {},
   "source": [
    "## ADJACENCY MATRIX"
   ]
  },
  {
   "cell_type": "code",
   "execution_count": 13,
   "id": "573e6ead-a604-422b-82d9-402088a11e13",
   "metadata": {},
   "outputs": [
    {
     "data": {
      "text/html": [
       "<div>\n",
       "<style scoped>\n",
       "    .dataframe tbody tr th:only-of-type {\n",
       "        vertical-align: middle;\n",
       "    }\n",
       "\n",
       "    .dataframe tbody tr th {\n",
       "        vertical-align: top;\n",
       "    }\n",
       "\n",
       "    .dataframe thead th {\n",
       "        text-align: right;\n",
       "    }\n",
       "</style>\n",
       "<table border=\"1\" class=\"dataframe\">\n",
       "  <thead>\n",
       "    <tr style=\"text-align: right;\">\n",
       "      <th>target</th>\n",
       "      <th>LIT101</th>\n",
       "      <th>MV101</th>\n",
       "      <th>P101</th>\n",
       "      <th>P102</th>\n",
       "      <th>AIT201</th>\n",
       "      <th>AIT202</th>\n",
       "      <th>AIT203</th>\n",
       "      <th>FIT201</th>\n",
       "      <th>MV201</th>\n",
       "      <th>P201</th>\n",
       "      <th>...</th>\n",
       "      <th>P501</th>\n",
       "      <th>P502</th>\n",
       "      <th>PIT501</th>\n",
       "      <th>PIT502</th>\n",
       "      <th>PIT503</th>\n",
       "      <th>FIT601</th>\n",
       "      <th>P601</th>\n",
       "      <th>P602</th>\n",
       "      <th>P603</th>\n",
       "      <th>attack</th>\n",
       "    </tr>\n",
       "    <tr>\n",
       "      <th>source</th>\n",
       "      <th></th>\n",
       "      <th></th>\n",
       "      <th></th>\n",
       "      <th></th>\n",
       "      <th></th>\n",
       "      <th></th>\n",
       "      <th></th>\n",
       "      <th></th>\n",
       "      <th></th>\n",
       "      <th></th>\n",
       "      <th></th>\n",
       "      <th></th>\n",
       "      <th></th>\n",
       "      <th></th>\n",
       "      <th></th>\n",
       "      <th></th>\n",
       "      <th></th>\n",
       "      <th></th>\n",
       "      <th></th>\n",
       "      <th></th>\n",
       "      <th></th>\n",
       "    </tr>\n",
       "  </thead>\n",
       "  <tbody>\n",
       "    <tr>\n",
       "      <th>LIT101</th>\n",
       "      <td>0</td>\n",
       "      <td>0</td>\n",
       "      <td>0</td>\n",
       "      <td>0</td>\n",
       "      <td>0</td>\n",
       "      <td>0</td>\n",
       "      <td>0</td>\n",
       "      <td>0</td>\n",
       "      <td>0</td>\n",
       "      <td>0</td>\n",
       "      <td>...</td>\n",
       "      <td>0</td>\n",
       "      <td>0</td>\n",
       "      <td>0</td>\n",
       "      <td>0</td>\n",
       "      <td>0</td>\n",
       "      <td>0</td>\n",
       "      <td>0</td>\n",
       "      <td>0</td>\n",
       "      <td>0</td>\n",
       "      <td>0</td>\n",
       "    </tr>\n",
       "    <tr>\n",
       "      <th>MV101</th>\n",
       "      <td>0</td>\n",
       "      <td>0</td>\n",
       "      <td>0</td>\n",
       "      <td>0</td>\n",
       "      <td>0</td>\n",
       "      <td>0</td>\n",
       "      <td>0</td>\n",
       "      <td>0</td>\n",
       "      <td>0</td>\n",
       "      <td>0</td>\n",
       "      <td>...</td>\n",
       "      <td>0</td>\n",
       "      <td>0</td>\n",
       "      <td>0</td>\n",
       "      <td>0</td>\n",
       "      <td>0</td>\n",
       "      <td>0</td>\n",
       "      <td>0</td>\n",
       "      <td>0</td>\n",
       "      <td>0</td>\n",
       "      <td>0</td>\n",
       "    </tr>\n",
       "    <tr>\n",
       "      <th>P101</th>\n",
       "      <td>0</td>\n",
       "      <td>0</td>\n",
       "      <td>0</td>\n",
       "      <td>0</td>\n",
       "      <td>0</td>\n",
       "      <td>0</td>\n",
       "      <td>0</td>\n",
       "      <td>0</td>\n",
       "      <td>0</td>\n",
       "      <td>0</td>\n",
       "      <td>...</td>\n",
       "      <td>0</td>\n",
       "      <td>0</td>\n",
       "      <td>0</td>\n",
       "      <td>0</td>\n",
       "      <td>0</td>\n",
       "      <td>0</td>\n",
       "      <td>0</td>\n",
       "      <td>0</td>\n",
       "      <td>0</td>\n",
       "      <td>0</td>\n",
       "    </tr>\n",
       "    <tr>\n",
       "      <th>P102</th>\n",
       "      <td>0</td>\n",
       "      <td>0</td>\n",
       "      <td>0</td>\n",
       "      <td>0</td>\n",
       "      <td>0</td>\n",
       "      <td>0</td>\n",
       "      <td>0</td>\n",
       "      <td>0</td>\n",
       "      <td>0</td>\n",
       "      <td>0</td>\n",
       "      <td>...</td>\n",
       "      <td>0</td>\n",
       "      <td>0</td>\n",
       "      <td>0</td>\n",
       "      <td>0</td>\n",
       "      <td>0</td>\n",
       "      <td>0</td>\n",
       "      <td>0</td>\n",
       "      <td>0</td>\n",
       "      <td>0</td>\n",
       "      <td>0</td>\n",
       "    </tr>\n",
       "    <tr>\n",
       "      <th>AIT201</th>\n",
       "      <td>0</td>\n",
       "      <td>0</td>\n",
       "      <td>0</td>\n",
       "      <td>0</td>\n",
       "      <td>0</td>\n",
       "      <td>0</td>\n",
       "      <td>0</td>\n",
       "      <td>0</td>\n",
       "      <td>0</td>\n",
       "      <td>0</td>\n",
       "      <td>...</td>\n",
       "      <td>0</td>\n",
       "      <td>0</td>\n",
       "      <td>0</td>\n",
       "      <td>0</td>\n",
       "      <td>0</td>\n",
       "      <td>0</td>\n",
       "      <td>0</td>\n",
       "      <td>0</td>\n",
       "      <td>0</td>\n",
       "      <td>0</td>\n",
       "    </tr>\n",
       "  </tbody>\n",
       "</table>\n",
       "<p>5 rows × 51 columns</p>\n",
       "</div>"
      ],
      "text/plain": [
       "target  LIT101  MV101  P101  P102  AIT201  AIT202  AIT203  FIT201  MV201  \\\n",
       "source                                                                     \n",
       "LIT101       0      0     0     0       0       0       0       0      0   \n",
       "MV101        0      0     0     0       0       0       0       0      0   \n",
       "P101         0      0     0     0       0       0       0       0      0   \n",
       "P102         0      0     0     0       0       0       0       0      0   \n",
       "AIT201       0      0     0     0       0       0       0       0      0   \n",
       "\n",
       "target  P201  ...  P501  P502  PIT501  PIT502  PIT503  FIT601  P601  P602  \\\n",
       "source        ...                                                           \n",
       "LIT101     0  ...     0     0       0       0       0       0     0     0   \n",
       "MV101      0  ...     0     0       0       0       0       0     0     0   \n",
       "P101       0  ...     0     0       0       0       0       0     0     0   \n",
       "P102       0  ...     0     0       0       0       0       0     0     0   \n",
       "AIT201     0  ...     0     0       0       0       0       0     0     0   \n",
       "\n",
       "target  P603  attack  \n",
       "source                \n",
       "LIT101     0       0  \n",
       "MV101      0       0  \n",
       "P101       0       0  \n",
       "P102       0       0  \n",
       "AIT201     0       0  \n",
       "\n",
       "[5 rows x 51 columns]"
      ]
     },
     "execution_count": 13,
     "metadata": {},
     "output_type": "execute_result"
    }
   ],
   "source": [
    "vector = bn.adjmat2vec(model_learned['adjmat'])\n",
    "A=(model_learned['adjmat'])\n",
    "A = A.astype(int)\n",
    "A.head(5)\n",
    "A.head()\n"
   ]
  },
  {
   "cell_type": "markdown",
   "id": "7685d5ec-6d7f-4edb-a2bc-ce10b7e6fcd4",
   "metadata": {},
   "source": [
    "## Normalization"
   ]
  },
  {
   "cell_type": "code",
   "execution_count": 74,
   "id": "4d949475-1d7c-4c23-b482-57601e69ed6d",
   "metadata": {},
   "outputs": [],
   "source": [
    "def normalize_adj_numpy(adj, symmetric=True):\n",
    "    if symmetric:\n",
    "        d = np.diag(np.power(np.array(adj.sum(1)), -0.5).flatten(), 0)\n",
    "        a_norm = adj.dot(d).transpose().dot(d)\n",
    "    else:\n",
    "        d = np.diag(np.power(np.array(adj.sum(1)), -1).flatten(), 0)\n",
    "        a_norm = d.dot(adj)\n",
    "    return a_norm"
   ]
  },
  {
   "cell_type": "code",
   "execution_count": 75,
   "id": "415348de-3d3e-4a83-a12f-b1d542ff5a92",
   "metadata": {},
   "outputs": [],
   "source": [
    "a_norm = normalize_adj_numpy(A,symmetric=True)"
   ]
  },
  {
   "cell_type": "code",
   "execution_count": 76,
   "id": "190c6232-ca27-402c-a272-5e708dd114e2",
   "metadata": {},
   "outputs": [
    {
     "data": {
      "text/plain": [
       "array([[nan, nan, nan, ..., nan, nan, nan],\n",
       "       [nan, nan, nan, ..., nan, nan, nan],\n",
       "       [nan, nan,  0., ...,  0., nan, nan],\n",
       "       ...,\n",
       "       [nan, nan,  0., ...,  0., nan, nan],\n",
       "       [nan, nan, nan, ..., nan, nan, nan],\n",
       "       [nan, nan, nan, ..., nan, nan, nan]])"
      ]
     },
     "execution_count": 76,
     "metadata": {},
     "output_type": "execute_result"
    }
   ],
   "source": [
    "edge_index = np.array(a_norm.values).T\n",
    "edge_index"
   ]
  },
  {
   "cell_type": "code",
   "execution_count": 17,
   "id": "66e7db37-2207-4cca-9538-919af5e9c158",
   "metadata": {},
   "outputs": [
    {
     "name": "stdout",
     "output_type": "stream",
     "text": [
      "No. of sensors: 51 \n",
      "No. of timesteps: 47340\n"
     ]
    }
   ],
   "source": [
    "time_len,num_nodes  = train_df.shape\n",
    "print(\"No. of sensors:\", num_nodes, \"\\nNo. of timesteps:\", time_len)"
   ]
  },
  {
   "cell_type": "code",
   "execution_count": 77,
   "id": "203e1da9-fdda-4809-8094-99de7bc7a502",
   "metadata": {},
   "outputs": [
    {
     "name": "stdout",
     "output_type": "stream",
     "text": [
      "torch.Size([51, 51])\n"
     ]
    }
   ],
   "source": [
    "edge_index = torch.tensor(edge_index, dtype=torch.long).contiguous()\n",
    "weights = torch.tensor([1]* edge_index.shape[1] , dtype=torch.double)\n",
    "print(edge_index.shape)"
   ]
  },
  {
   "cell_type": "markdown",
   "id": "86f79864-1705-42d9-9460-c4505e4d00f5",
   "metadata": {},
   "source": [
    "## preprocess features"
   ]
  },
  {
   "cell_type": "code",
   "execution_count": 55,
   "id": "5a5a1b18-55ff-4a66-aab7-7537cf97709b",
   "metadata": {},
   "outputs": [
    {
     "name": "stdout",
     "output_type": "stream",
     "text": [
      "(92331, 51)\n"
     ]
    },
    {
     "data": {
      "text/plain": [
       "0    86838\n",
       "1     5493\n",
       "Name: attack, dtype: int64"
      ]
     },
     "execution_count": 55,
     "metadata": {},
     "output_type": "execute_result"
    }
   ],
   "source": [
    "df = pd.concat([train_df,test_df])\n",
    "print(df.shape)\n",
    "df.attack.value_counts()"
   ]
  },
  {
   "cell_type": "code",
   "execution_count": 57,
   "id": "61f15727-bf80-4253-b67c-17ce5c92afdc",
   "metadata": {},
   "outputs": [
    {
     "data": {
      "text/plain": [
       "(92331, 50)"
      ]
     },
     "execution_count": 57,
     "metadata": {},
     "output_type": "execute_result"
    }
   ],
   "source": [
    "node_features = df.drop(['attack'], axis=1).copy()\n",
    "node_features.shape\n"
   ]
  },
  {
   "cell_type": "markdown",
   "id": "07915190-9fc3-459b-bc09-f88f4a70c5c7",
   "metadata": {},
   "source": [
    "## 1D Convolution"
   ]
  },
  {
   "cell_type": "code",
   "execution_count": 62,
   "id": "0c3523e2-f4a3-4ac0-ac50-87324f53618b",
   "metadata": {},
   "outputs": [],
   "source": [
    "# Simple Conv\n",
    "# Here we borrow method from sklearn\n",
    "def conv(data):\n",
    "    result = [] \n",
    "    for i in range(50):\n",
    "        sample = data.iloc[:, i]\n",
    "        sd = seasonal_decompose(sample, period=1000, extrapolate_trend='freq').trend\n",
    "        result.append(sd)\n",
    "    result = np.transpose(np.array(result), (1, 0))\n",
    "    return result"
   ]
  },
  {
   "cell_type": "code",
   "execution_count": 63,
   "id": "1c448bcd-c4bd-4682-80fe-9a5f716cb2f6",
   "metadata": {},
   "outputs": [],
   "source": [
    "node_features= conv(node_features)\n"
   ]
  },
  {
   "cell_type": "code",
   "execution_count": 64,
   "id": "b9cc8fa8-5326-450f-8328-c230bebed760",
   "metadata": {},
   "outputs": [],
   "source": [
    "node_features = torch.tensor(np.array(node_features, dtype=np.double), dtype=torch.double)"
   ]
  },
  {
   "cell_type": "code",
   "execution_count": 65,
   "id": "f7df2ea1-feae-4f84-b197-81ffea4181de",
   "metadata": {},
   "outputs": [
    {
     "data": {
      "text/plain": [
       "torch.Size([92331, 50])"
      ]
     },
     "execution_count": 65,
     "metadata": {},
     "output_type": "execute_result"
    }
   ],
   "source": [
    "node_features.shape"
   ]
  },
  {
   "cell_type": "code",
   "execution_count": 66,
   "id": "cc69927a-71cc-4eb9-aa0c-20ceaded7249",
   "metadata": {},
   "outputs": [],
   "source": [
    "labels =df['attack'].values"
   ]
  },
  {
   "cell_type": "code",
   "execution_count": 69,
   "id": "4611c5dc-53a5-4f98-8314-047c28c96317",
   "metadata": {},
   "outputs": [
    {
     "ename": "OSError",
     "evalue": "[WinError 127] The specified procedure could not be found",
     "output_type": "error",
     "traceback": [
      "\u001b[1;31m---------------------------------------------------------------------------\u001b[0m",
      "\u001b[1;31mOSError\u001b[0m                                   Traceback (most recent call last)",
      "\u001b[1;32m~\\AppData\\Local\\Temp/ipykernel_19340/3433674767.py\u001b[0m in \u001b[0;36m<module>\u001b[1;34m\u001b[0m\n\u001b[0;32m      1\u001b[0m \u001b[1;32mfrom\u001b[0m \u001b[0mtorch\u001b[0m\u001b[1;33m.\u001b[0m\u001b[0mnn\u001b[0m \u001b[1;32mimport\u001b[0m \u001b[0mLinear\u001b[0m\u001b[1;33m,\u001b[0m \u001b[0mLayerNorm\u001b[0m\u001b[1;33m,\u001b[0m \u001b[0mReLU\u001b[0m\u001b[1;33m,\u001b[0m \u001b[0mDropout\u001b[0m\u001b[1;33m\u001b[0m\u001b[1;33m\u001b[0m\u001b[0m\n\u001b[0;32m      2\u001b[0m \u001b[1;32mimport\u001b[0m \u001b[0mtorch\u001b[0m\u001b[1;33m.\u001b[0m\u001b[0mnn\u001b[0m\u001b[1;33m.\u001b[0m\u001b[0mfunctional\u001b[0m \u001b[1;32mas\u001b[0m \u001b[0mF\u001b[0m\u001b[1;33m\u001b[0m\u001b[1;33m\u001b[0m\u001b[0m\n\u001b[1;32m----> 3\u001b[1;33m \u001b[1;32mfrom\u001b[0m \u001b[0mtorch_geometric\u001b[0m\u001b[1;33m.\u001b[0m\u001b[0mnn\u001b[0m \u001b[1;32mimport\u001b[0m \u001b[0mChebConv\u001b[0m\u001b[1;33m,\u001b[0m \u001b[0mNNConv\u001b[0m\u001b[1;33m,\u001b[0m \u001b[0mDeepGCNLayer\u001b[0m\u001b[1;33m,\u001b[0m \u001b[0mGATConv\u001b[0m\u001b[1;33m,\u001b[0m \u001b[0mDenseGCNConv\u001b[0m\u001b[1;33m,\u001b[0m \u001b[0mGCNConv\u001b[0m\u001b[1;33m,\u001b[0m \u001b[0mGraphConv\u001b[0m\u001b[1;33m\u001b[0m\u001b[1;33m\u001b[0m\u001b[0m\n\u001b[0m\u001b[0;32m      4\u001b[0m \u001b[1;32mfrom\u001b[0m \u001b[0mtorch_geometric\u001b[0m\u001b[1;33m.\u001b[0m\u001b[0mdata\u001b[0m \u001b[1;32mimport\u001b[0m \u001b[0mData\u001b[0m\u001b[1;33m,\u001b[0m \u001b[0mDataLoader\u001b[0m\u001b[1;33m\u001b[0m\u001b[1;33m\u001b[0m\u001b[0m\n",
      "\u001b[1;32m~\\Anaconda\\lib\\site-packages\\torch_geometric\\__init__.py\u001b[0m in \u001b[0;36m<module>\u001b[1;34m\u001b[0m\n\u001b[0;32m      1\u001b[0m \u001b[1;32mfrom\u001b[0m \u001b[1;33m.\u001b[0m\u001b[0mdebug\u001b[0m \u001b[1;32mimport\u001b[0m \u001b[0mis_debug_enabled\u001b[0m\u001b[1;33m,\u001b[0m \u001b[0mdebug\u001b[0m\u001b[1;33m,\u001b[0m \u001b[0mset_debug\u001b[0m\u001b[1;33m\u001b[0m\u001b[1;33m\u001b[0m\u001b[0m\n\u001b[1;32m----> 2\u001b[1;33m \u001b[1;32mimport\u001b[0m \u001b[0mtorch_geometric\u001b[0m\u001b[1;33m.\u001b[0m\u001b[0mnn\u001b[0m\u001b[1;33m\u001b[0m\u001b[1;33m\u001b[0m\u001b[0m\n\u001b[0m\u001b[0;32m      3\u001b[0m \u001b[1;32mimport\u001b[0m \u001b[0mtorch_geometric\u001b[0m\u001b[1;33m.\u001b[0m\u001b[0mdata\u001b[0m\u001b[1;33m\u001b[0m\u001b[1;33m\u001b[0m\u001b[0m\n\u001b[0;32m      4\u001b[0m \u001b[1;32mimport\u001b[0m \u001b[0mtorch_geometric\u001b[0m\u001b[1;33m.\u001b[0m\u001b[0mdatasets\u001b[0m\u001b[1;33m\u001b[0m\u001b[1;33m\u001b[0m\u001b[0m\n\u001b[0;32m      5\u001b[0m \u001b[1;32mimport\u001b[0m \u001b[0mtorch_geometric\u001b[0m\u001b[1;33m.\u001b[0m\u001b[0mtransforms\u001b[0m\u001b[1;33m\u001b[0m\u001b[1;33m\u001b[0m\u001b[0m\n",
      "\u001b[1;32m~\\Anaconda\\lib\\site-packages\\torch_geometric\\nn\\__init__.py\u001b[0m in \u001b[0;36m<module>\u001b[1;34m\u001b[0m\n\u001b[0;32m      1\u001b[0m \u001b[1;32mfrom\u001b[0m \u001b[1;33m.\u001b[0m\u001b[0mmeta\u001b[0m \u001b[1;32mimport\u001b[0m \u001b[0mMetaLayer\u001b[0m\u001b[1;33m\u001b[0m\u001b[1;33m\u001b[0m\u001b[0m\n\u001b[1;32m----> 2\u001b[1;33m \u001b[1;32mfrom\u001b[0m \u001b[1;33m.\u001b[0m\u001b[0mdata_parallel\u001b[0m \u001b[1;32mimport\u001b[0m \u001b[0mDataParallel\u001b[0m\u001b[1;33m\u001b[0m\u001b[1;33m\u001b[0m\u001b[0m\n\u001b[0m\u001b[0;32m      3\u001b[0m \u001b[1;32mfrom\u001b[0m \u001b[1;33m.\u001b[0m\u001b[0mreshape\u001b[0m \u001b[1;32mimport\u001b[0m \u001b[0mReshape\u001b[0m\u001b[1;33m\u001b[0m\u001b[1;33m\u001b[0m\u001b[0m\n\u001b[0;32m      4\u001b[0m \u001b[1;32mfrom\u001b[0m \u001b[1;33m.\u001b[0m\u001b[0mconv\u001b[0m \u001b[1;32mimport\u001b[0m \u001b[1;33m*\u001b[0m  \u001b[1;31m# noqa\u001b[0m\u001b[1;33m\u001b[0m\u001b[1;33m\u001b[0m\u001b[0m\n\u001b[0;32m      5\u001b[0m \u001b[1;32mfrom\u001b[0m \u001b[1;33m.\u001b[0m\u001b[0mnorm\u001b[0m \u001b[1;32mimport\u001b[0m \u001b[1;33m*\u001b[0m  \u001b[1;31m# noqa\u001b[0m\u001b[1;33m\u001b[0m\u001b[1;33m\u001b[0m\u001b[0m\n",
      "\u001b[1;32m~\\Anaconda\\lib\\site-packages\\torch_geometric\\nn\\data_parallel.py\u001b[0m in \u001b[0;36m<module>\u001b[1;34m\u001b[0m\n\u001b[0;32m      3\u001b[0m \u001b[1;33m\u001b[0m\u001b[0m\n\u001b[0;32m      4\u001b[0m \u001b[1;32mimport\u001b[0m \u001b[0mtorch\u001b[0m\u001b[1;33m\u001b[0m\u001b[1;33m\u001b[0m\u001b[0m\n\u001b[1;32m----> 5\u001b[1;33m \u001b[1;32mfrom\u001b[0m \u001b[0mtorch_geometric\u001b[0m\u001b[1;33m.\u001b[0m\u001b[0mdata\u001b[0m \u001b[1;32mimport\u001b[0m \u001b[0mBatch\u001b[0m\u001b[1;33m\u001b[0m\u001b[1;33m\u001b[0m\u001b[0m\n\u001b[0m\u001b[0;32m      6\u001b[0m \u001b[1;33m\u001b[0m\u001b[0m\n\u001b[0;32m      7\u001b[0m \u001b[1;33m\u001b[0m\u001b[0m\n",
      "\u001b[1;32m~\\Anaconda\\lib\\site-packages\\torch_geometric\\data\\__init__.py\u001b[0m in \u001b[0;36m<module>\u001b[1;34m\u001b[0m\n\u001b[1;32m----> 1\u001b[1;33m \u001b[1;32mfrom\u001b[0m \u001b[1;33m.\u001b[0m\u001b[0mdata\u001b[0m \u001b[1;32mimport\u001b[0m \u001b[0mData\u001b[0m\u001b[1;33m\u001b[0m\u001b[1;33m\u001b[0m\u001b[0m\n\u001b[0m\u001b[0;32m      2\u001b[0m \u001b[1;32mfrom\u001b[0m \u001b[1;33m.\u001b[0m\u001b[0mbatch\u001b[0m \u001b[1;32mimport\u001b[0m \u001b[0mBatch\u001b[0m\u001b[1;33m\u001b[0m\u001b[1;33m\u001b[0m\u001b[0m\n\u001b[0;32m      3\u001b[0m \u001b[1;32mfrom\u001b[0m \u001b[1;33m.\u001b[0m\u001b[0mdataset\u001b[0m \u001b[1;32mimport\u001b[0m \u001b[0mDataset\u001b[0m\u001b[1;33m\u001b[0m\u001b[1;33m\u001b[0m\u001b[0m\n\u001b[0;32m      4\u001b[0m \u001b[1;32mfrom\u001b[0m \u001b[1;33m.\u001b[0m\u001b[0min_memory_dataset\u001b[0m \u001b[1;32mimport\u001b[0m \u001b[0mInMemoryDataset\u001b[0m\u001b[1;33m\u001b[0m\u001b[1;33m\u001b[0m\u001b[0m\n\u001b[0;32m      5\u001b[0m \u001b[1;32mfrom\u001b[0m \u001b[1;33m.\u001b[0m\u001b[0mdataloader\u001b[0m \u001b[1;32mimport\u001b[0m \u001b[0mDataLoader\u001b[0m\u001b[1;33m,\u001b[0m \u001b[0mDataListLoader\u001b[0m\u001b[1;33m,\u001b[0m \u001b[0mDenseDataLoader\u001b[0m\u001b[1;33m\u001b[0m\u001b[1;33m\u001b[0m\u001b[0m\n",
      "\u001b[1;32m~\\Anaconda\\lib\\site-packages\\torch_geometric\\data\\data.py\u001b[0m in \u001b[0;36m<module>\u001b[1;34m\u001b[0m\n\u001b[0;32m      5\u001b[0m \u001b[1;32mimport\u001b[0m \u001b[0mtorch\u001b[0m\u001b[1;33m\u001b[0m\u001b[1;33m\u001b[0m\u001b[0m\n\u001b[0;32m      6\u001b[0m \u001b[1;32mimport\u001b[0m \u001b[0mtorch_geometric\u001b[0m\u001b[1;33m\u001b[0m\u001b[1;33m\u001b[0m\u001b[0m\n\u001b[1;32m----> 7\u001b[1;33m \u001b[1;32mfrom\u001b[0m \u001b[0mtorch_sparse\u001b[0m \u001b[1;32mimport\u001b[0m \u001b[0mcoalesce\u001b[0m\u001b[1;33m\u001b[0m\u001b[1;33m\u001b[0m\u001b[0m\n\u001b[0m\u001b[0;32m      8\u001b[0m from torch_geometric.utils import (contains_isolated_nodes,\n\u001b[0;32m      9\u001b[0m                                    contains_self_loops, is_undirected)\n",
      "\u001b[1;32m~\\Anaconda\\lib\\site-packages\\torch_sparse\\__init__.py\u001b[0m in \u001b[0;36m<module>\u001b[1;34m\u001b[0m\n\u001b[0;32m     10\u001b[0m         \u001b[1;34m'_saint'\u001b[0m\u001b[1;33m,\u001b[0m \u001b[1;34m'_sample'\u001b[0m\u001b[1;33m,\u001b[0m \u001b[1;34m'_relabel'\u001b[0m\u001b[1;33m\u001b[0m\u001b[1;33m\u001b[0m\u001b[0m\n\u001b[0;32m     11\u001b[0m ]:\n\u001b[1;32m---> 12\u001b[1;33m     torch.ops.load_library(importlib.machinery.PathFinder().find_spec(\n\u001b[0m\u001b[0;32m     13\u001b[0m         library, [osp.dirname(__file__)]).origin)\n\u001b[0;32m     14\u001b[0m \u001b[1;33m\u001b[0m\u001b[0m\n",
      "\u001b[1;32m~\\Anaconda\\lib\\site-packages\\torch\\_ops.py\u001b[0m in \u001b[0;36mload_library\u001b[1;34m(self, path)\u001b[0m\n\u001b[0;32m    218\u001b[0m             \u001b[1;31m# static (global) initialization code in order to register custom\u001b[0m\u001b[1;33m\u001b[0m\u001b[1;33m\u001b[0m\u001b[1;33m\u001b[0m\u001b[0m\n\u001b[0;32m    219\u001b[0m             \u001b[1;31m# operators with the JIT.\u001b[0m\u001b[1;33m\u001b[0m\u001b[1;33m\u001b[0m\u001b[1;33m\u001b[0m\u001b[0m\n\u001b[1;32m--> 220\u001b[1;33m             \u001b[0mctypes\u001b[0m\u001b[1;33m.\u001b[0m\u001b[0mCDLL\u001b[0m\u001b[1;33m(\u001b[0m\u001b[0mpath\u001b[0m\u001b[1;33m)\u001b[0m\u001b[1;33m\u001b[0m\u001b[1;33m\u001b[0m\u001b[0m\n\u001b[0m\u001b[0;32m    221\u001b[0m         \u001b[0mself\u001b[0m\u001b[1;33m.\u001b[0m\u001b[0mloaded_libraries\u001b[0m\u001b[1;33m.\u001b[0m\u001b[0madd\u001b[0m\u001b[1;33m(\u001b[0m\u001b[0mpath\u001b[0m\u001b[1;33m)\u001b[0m\u001b[1;33m\u001b[0m\u001b[1;33m\u001b[0m\u001b[0m\n\u001b[0;32m    222\u001b[0m \u001b[1;33m\u001b[0m\u001b[0m\n",
      "\u001b[1;32m~\\Anaconda\\lib\\ctypes\\__init__.py\u001b[0m in \u001b[0;36m__init__\u001b[1;34m(self, name, mode, handle, use_errno, use_last_error, winmode)\u001b[0m\n\u001b[0;32m    379\u001b[0m \u001b[1;33m\u001b[0m\u001b[0m\n\u001b[0;32m    380\u001b[0m         \u001b[1;32mif\u001b[0m \u001b[0mhandle\u001b[0m \u001b[1;32mis\u001b[0m \u001b[1;32mNone\u001b[0m\u001b[1;33m:\u001b[0m\u001b[1;33m\u001b[0m\u001b[1;33m\u001b[0m\u001b[0m\n\u001b[1;32m--> 381\u001b[1;33m             \u001b[0mself\u001b[0m\u001b[1;33m.\u001b[0m\u001b[0m_handle\u001b[0m \u001b[1;33m=\u001b[0m \u001b[0m_dlopen\u001b[0m\u001b[1;33m(\u001b[0m\u001b[0mself\u001b[0m\u001b[1;33m.\u001b[0m\u001b[0m_name\u001b[0m\u001b[1;33m,\u001b[0m \u001b[0mmode\u001b[0m\u001b[1;33m)\u001b[0m\u001b[1;33m\u001b[0m\u001b[1;33m\u001b[0m\u001b[0m\n\u001b[0m\u001b[0;32m    382\u001b[0m         \u001b[1;32melse\u001b[0m\u001b[1;33m:\u001b[0m\u001b[1;33m\u001b[0m\u001b[1;33m\u001b[0m\u001b[0m\n\u001b[0;32m    383\u001b[0m             \u001b[0mself\u001b[0m\u001b[1;33m.\u001b[0m\u001b[0m_handle\u001b[0m \u001b[1;33m=\u001b[0m \u001b[0mhandle\u001b[0m\u001b[1;33m\u001b[0m\u001b[1;33m\u001b[0m\u001b[0m\n",
      "\u001b[1;31mOSError\u001b[0m: [WinError 127] The specified procedure could not be found"
     ]
    }
   ],
   "source": [
    "from torch.nn import Linear, LayerNorm, ReLU, Dropout\n",
    "import torch.nn.functional as F\n",
    "from torch_geometric.nn import ChebConv, NNConv, DeepGCNLayer, GATConv, DenseGCNConv, GCNConv, GraphConv\n",
    "from torch_geometric.data import Data, DataLoader"
   ]
  },
  {
   "cell_type": "code",
   "execution_count": 26,
   "id": "c03db843-ebfd-40ab-be5a-1b550ab5c94d",
   "metadata": {},
   "outputs": [
    {
     "ename": "NameError",
     "evalue": "name 'Data' is not defined",
     "output_type": "error",
     "traceback": [
      "\u001b[1;31m---------------------------------------------------------------------------\u001b[0m",
      "\u001b[1;31mNameError\u001b[0m                                 Traceback (most recent call last)",
      "\u001b[1;32m~\\AppData\\Local\\Temp/ipykernel_19340/1277116596.py\u001b[0m in \u001b[0;36m<module>\u001b[1;34m\u001b[0m\n\u001b[0;32m      1\u001b[0m \u001b[1;31m# converting data to PyGeometric graph data format\u001b[0m\u001b[1;33m\u001b[0m\u001b[1;33m\u001b[0m\u001b[1;33m\u001b[0m\u001b[0m\n\u001b[1;32m----> 2\u001b[1;33m data_train = Data(x=node_features, edge_index=edge_index, edge_attr=weights,\n\u001b[0m\u001b[0;32m      3\u001b[0m                                y=torch.tensor(labels, dtype=torch.double)) #, adj= torch.from_numpy(np.array(adj))\n",
      "\u001b[1;31mNameError\u001b[0m: name 'Data' is not defined"
     ]
    }
   ],
   "source": [
    "# converting data to PyGeometric graph data format\n",
    "data_train = Data(x=node_features, edge_index=edge_index, edge_attr=weights,\n",
    "                               y=torch.tensor(labels, dtype=torch.double)) #, adj= torch.from_numpy(np.array(adj))"
   ]
  }
 ],
 "metadata": {
  "kernelspec": {
   "display_name": "Python 3 (ipykernel)",
   "language": "python",
   "name": "python3"
  },
  "language_info": {
   "codemirror_mode": {
    "name": "ipython",
    "version": 3
   },
   "file_extension": ".py",
   "mimetype": "text/x-python",
   "name": "python",
   "nbconvert_exporter": "python",
   "pygments_lexer": "ipython3",
   "version": "3.8.5"
  }
 },
 "nbformat": 4,
 "nbformat_minor": 5
}
